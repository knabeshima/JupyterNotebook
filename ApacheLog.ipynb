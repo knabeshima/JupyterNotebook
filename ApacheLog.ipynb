{
 "cells": [
  {
   "cell_type": "code",
   "execution_count": 1,
   "metadata": {
    "collapsed": true
   },
   "outputs": [],
   "source": [
    "import pandas as pd\n",
    "import numpy as np\n",
    "\n",
    "# %matplotlib inline"
   ]
  },
  {
   "cell_type": "code",
   "execution_count": 2,
   "metadata": {
    "collapsed": true
   },
   "outputs": [],
   "source": [
    "# %h %l %u %t \\\"%r\\\" %>s %b \\\"%{Referer}i\\\" \\\"%{User-agent}i\\\"\n",
    "\n",
    "from datetime import datetime\n",
    "import pytz\n",
    "\n",
    "def parse_str(x):\n",
    "    return x[1:-1]\n",
    "\n",
    "def parse_datetime(x):\n",
    "    dt = datetime.strptime(x[1:-7], '%d/%b/%Y:%H:%M:%S')\n",
    "    dt_tz = int(x[-6:-3])*60+int(x[-3:-1])    \n",
    "    return dt.replace(tzinfo=pytz.FixedOffset(dt_tz))"
   ]
  },
  {
   "cell_type": "code",
   "execution_count": 3,
   "metadata": {
    "collapsed": true
   },
   "outputs": [],
   "source": [
    "import re\n",
    "import pandas as pd\n",
    "\n",
    "data = pd.read_csv(\n",
    "    'data/access.log', \n",
    "    sep=r'\\s(?=(?:[^\"]*\"[^\"]*\")*[^\"]*$)(?![^\\[]*\\])', \n",
    "    engine='python', \n",
    "    na_values='-', \n",
    "    header=None,\n",
    "    usecols=[0, 3, 4, 5, 6, 7, 8],\n",
    "    names=['ip', 'time', 'request', 'status', 'size', 'referer', 'user_agent'],\n",
    "    converters={'time': parse_datetime,\n",
    "                'request': parse_str,\n",
    "                'status': int,\n",
    "                'size': int,\n",
    "                'referer': parse_str,\n",
    "                'user_agent': parse_str})"
   ]
  },
  {
   "cell_type": "code",
   "execution_count": 4,
   "metadata": {
    "scrolled": true
   },
   "outputs": [
    {
     "data": {
      "text/html": [
       "<div>\n",
       "<style>\n",
       "    .dataframe thead tr:only-child th {\n",
       "        text-align: right;\n",
       "    }\n",
       "\n",
       "    .dataframe thead th {\n",
       "        text-align: left;\n",
       "    }\n",
       "\n",
       "    .dataframe tbody tr th {\n",
       "        vertical-align: top;\n",
       "    }\n",
       "</style>\n",
       "<table border=\"1\" class=\"dataframe\">\n",
       "  <thead>\n",
       "    <tr style=\"text-align: right;\">\n",
       "      <th></th>\n",
       "      <th>ip</th>\n",
       "      <th>time</th>\n",
       "      <th>request</th>\n",
       "      <th>status</th>\n",
       "      <th>size</th>\n",
       "      <th>referer</th>\n",
       "      <th>user_agent</th>\n",
       "    </tr>\n",
       "  </thead>\n",
       "  <tbody>\n",
       "    <tr>\n",
       "      <th>0</th>\n",
       "      <td>68.177.95.36</td>\n",
       "      <td>2017-07-29 23:52:46+09:00</td>\n",
       "      <td>GET /category/games HTTP/1.1</td>\n",
       "      <td>200</td>\n",
       "      <td>62</td>\n",
       "      <td>NaN</td>\n",
       "      <td>Mozilla/5.0 (Windows NT 6.1; WOW64; rv:10.0.1)...</td>\n",
       "    </tr>\n",
       "    <tr>\n",
       "      <th>1</th>\n",
       "      <td>84.48.39.212</td>\n",
       "      <td>2017-07-29 23:52:46+09:00</td>\n",
       "      <td>GET /item/office/1495 HTTP/1.1</td>\n",
       "      <td>200</td>\n",
       "      <td>82</td>\n",
       "      <td>/search/?c=Garden+Sports</td>\n",
       "      <td>Mozilla/4.0 (compatible; MSIE 8.0; Windows NT ...</td>\n",
       "    </tr>\n",
       "    <tr>\n",
       "      <th>2</th>\n",
       "      <td>160.33.168.76</td>\n",
       "      <td>2017-07-29 23:52:46+09:00</td>\n",
       "      <td>GET /category/books HTTP/1.1</td>\n",
       "      <td>200</td>\n",
       "      <td>125</td>\n",
       "      <td>/category/jewelry</td>\n",
       "      <td>Mozilla/4.0 (compatible; MSIE 8.0; Windows NT ...</td>\n",
       "    </tr>\n",
       "    <tr>\n",
       "      <th>3</th>\n",
       "      <td>24.168.36.225</td>\n",
       "      <td>2017-07-29 23:52:46+09:00</td>\n",
       "      <td>GET /item/books/2489 HTTP/1.1</td>\n",
       "      <td>200</td>\n",
       "      <td>65</td>\n",
       "      <td>/category/office</td>\n",
       "      <td>Mozilla/5.0 (Windows NT 6.0; rv:10.0.1) Gecko/...</td>\n",
       "    </tr>\n",
       "    <tr>\n",
       "      <th>4</th>\n",
       "      <td>196.30.56.81</td>\n",
       "      <td>2017-07-29 23:52:46+09:00</td>\n",
       "      <td>GET /category/electronics HTTP/1.1</td>\n",
       "      <td>200</td>\n",
       "      <td>116</td>\n",
       "      <td>NaN</td>\n",
       "      <td>Mozilla/4.0 (compatible; MSIE 8.0; Windows NT ...</td>\n",
       "    </tr>\n",
       "  </tbody>\n",
       "</table>\n",
       "</div>"
      ],
      "text/plain": [
       "              ip                      time  \\\n",
       "0   68.177.95.36 2017-07-29 23:52:46+09:00   \n",
       "1   84.48.39.212 2017-07-29 23:52:46+09:00   \n",
       "2  160.33.168.76 2017-07-29 23:52:46+09:00   \n",
       "3  24.168.36.225 2017-07-29 23:52:46+09:00   \n",
       "4   196.30.56.81 2017-07-29 23:52:46+09:00   \n",
       "\n",
       "                              request  status  size                   referer  \\\n",
       "0        GET /category/games HTTP/1.1     200    62                       NaN   \n",
       "1      GET /item/office/1495 HTTP/1.1     200    82  /search/?c=Garden+Sports   \n",
       "2        GET /category/books HTTP/1.1     200   125         /category/jewelry   \n",
       "3       GET /item/books/2489 HTTP/1.1     200    65          /category/office   \n",
       "4  GET /category/electronics HTTP/1.1     200   116                       NaN   \n",
       "\n",
       "                                          user_agent  \n",
       "0  Mozilla/5.0 (Windows NT 6.1; WOW64; rv:10.0.1)...  \n",
       "1  Mozilla/4.0 (compatible; MSIE 8.0; Windows NT ...  \n",
       "2  Mozilla/4.0 (compatible; MSIE 8.0; Windows NT ...  \n",
       "3  Mozilla/5.0 (Windows NT 6.0; rv:10.0.1) Gecko/...  \n",
       "4  Mozilla/4.0 (compatible; MSIE 8.0; Windows NT ...  "
      ]
     },
     "execution_count": 4,
     "metadata": {},
     "output_type": "execute_result"
    }
   ],
   "source": [
    "data.head()"
   ]
  },
  {
   "cell_type": "markdown",
   "metadata": {},
   "source": [
    "## IP出現数をカウント"
   ]
  },
  {
   "cell_type": "code",
   "execution_count": 20,
   "metadata": {},
   "outputs": [
    {
     "data": {
      "text/plain": [
       "188.171.28.96     111\n",
       "136.108.227.33    109\n",
       "80.90.157.181     108\n",
       "124.105.86.24     108\n",
       "68.60.78.40       108\n",
       "Name: ip, dtype: int64"
      ]
     },
     "execution_count": 20,
     "metadata": {},
     "output_type": "execute_result"
    }
   ],
   "source": [
    "counted_ip = data.ip.value_counts()\n",
    "counted_ip.head()"
   ]
  },
  {
   "cell_type": "markdown",
   "metadata": {},
   "source": []
  },
  {
   "cell_type": "markdown",
   "metadata": {},
   "source": [
    "## IPソート"
   ]
  },
  {
   "cell_type": "code",
   "execution_count": 18,
   "metadata": {},
   "outputs": [
    {
     "data": {
      "text/plain": [
       "['20.24.67.42',\n",
       " '20.27.42.192',\n",
       " '20.30.177.143',\n",
       " '20.45.205.115',\n",
       " '20.48.21.137',\n",
       " '20.57.173.220',\n",
       " '20.78.111.60',\n",
       " '20.84.149.116',\n",
       " '20.90.188.172',\n",
       " '20.90.222.119']"
      ]
     },
     "execution_count": 18,
     "metadata": {},
     "output_type": "execute_result"
    }
   ],
   "source": [
    "import socket as sock\n",
    "\n",
    "def sorted_ips(raw_ips):\n",
    "    ips = [sock.inet_pton(sock.AF_INET, ip) for ip in raw_ips]\n",
    "    ips.sort()\n",
    "    return [sock.inet_ntop(sock.AF_INET, ip) for ip in ips]\n",
    "\n",
    "unique_ips= counted_ip.to_dict().keys()\n",
    "sorted_ips(unique_ips)[0:10]"
   ]
  }
 ],
 "metadata": {
  "kernelspec": {
   "display_name": "Python 3",
   "language": "python",
   "name": "python3"
  },
  "language_info": {
   "codemirror_mode": {
    "name": "ipython",
    "version": 3
   },
   "file_extension": ".py",
   "mimetype": "text/x-python",
   "name": "python",
   "nbconvert_exporter": "python",
   "pygments_lexer": "ipython3",
   "version": "3.6.1"
  },
  "toc": {
   "nav_menu": {},
   "number_sections": true,
   "sideBar": true,
   "skip_h1_title": false,
   "toc_cell": false,
   "toc_position": {},
   "toc_section_display": "block",
   "toc_window_display": false
  },
  "varInspector": {
   "cols": {
    "lenName": 16,
    "lenType": 16,
    "lenVar": 40
   },
   "kernels_config": {
    "python": {
     "delete_cmd_postfix": "",
     "delete_cmd_prefix": "del ",
     "library": "var_list.py",
     "varRefreshCmd": "print(var_dic_list())"
    },
    "r": {
     "delete_cmd_postfix": ") ",
     "delete_cmd_prefix": "rm(",
     "library": "var_list.r",
     "varRefreshCmd": "cat(var_dic_list()) "
    }
   },
   "types_to_exclude": [
    "module",
    "function",
    "builtin_function_or_method",
    "instance",
    "_Feature"
   ],
   "window_display": false
  }
 },
 "nbformat": 4,
 "nbformat_minor": 2
}
